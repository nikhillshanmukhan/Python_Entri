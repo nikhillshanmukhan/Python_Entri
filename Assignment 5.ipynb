{
 "cells": [
  {
   "cell_type": "code",
   "execution_count": 1,
   "id": "c4af8ad2",
   "metadata": {},
   "outputs": [
    {
     "name": "stdout",
     "output_type": "stream",
     "text": [
      "Successfully created test file: 'test_file.txt'\n"
     ]
    }
   ],
   "source": [
    "# Program to create a test file\n",
    "def create_test_file(filename, content=None):\n",
    "    \"\"\"\n",
    "    Creates a test file with the given filename and optional content.\n",
    "    If no content is provided, default sample text will be used.\n",
    "    \"\"\"\n",
    "    if content is None:\n",
    "        content = \"\"\"This is a test file created by Python.\n",
    "It contains multiple lines of text.\n",
    "You can use this file for testing purposes.\n",
    "Line 3\n",
    "Line 4\n",
    "The quick brown fox jumps over the lazy dog.\n",
    "1234567890\n",
    "Special characters: !@#$%^&*()\n",
    "End of file.\"\"\"\n",
    "    \n",
    "    try:\n",
    "        with open(filename, 'w') as file:\n",
    "            file.write(content)\n",
    "        print(f\"Successfully created test file: '{filename}'\")\n",
    "    except IOError as e:\n",
    "        print(f\"Error creating file: {e}\")\n",
    "\n",
    "# Example usage\n",
    "if __name__ == \"__main__\":\n",
    "    test_filename = \"test_file.txt\"\n",
    "    create_test_file(test_filename)"
   ]
  },
  {
   "cell_type": "code",
   "execution_count": 2,
   "id": "8335c205",
   "metadata": {},
   "outputs": [
    {
     "name": "stdout",
     "output_type": "stream",
     "text": [
      "File contents:\n",
      "----------------------------------------\n",
      "This is a test file created by Python.\n",
      "It contains multiple lines of text.\n",
      "You can use this file for testing purposes.\n",
      "Line 3\n",
      "Line 4\n",
      "The quick brown fox jumps over the lazy dog.\n",
      "1234567890\n",
      "Special characters: !@#$%^&*()\n",
      "End of file.\n",
      "----------------------------------------\n"
     ]
    }
   ],
   "source": [
    "#Exercise 1: Read a file and display its contents\n",
    "def display_file(filename):\n",
    "    \"\"\"Reads and prints the entire file content at once\"\"\"\n",
    "    try:\n",
    "        with open(filename, 'r') as file:\n",
    "            content = file.read()\n",
    "            print(\"File contents:\")\n",
    "            print(\"-\" * 40)\n",
    "            print(content)\n",
    "            print(\"-\" * 40)\n",
    "    except FileNotFoundError:\n",
    "        print(f\"Error: File '{filename}' not found.\")\n",
    "    except IOError as e:\n",
    "        print(f\"Error reading file: {e}\")\n",
    "        \n",
    "test_filename = \"test_file.txt\"\n",
    "display_file(test_filename)"
   ]
  },
  {
   "cell_type": "code",
   "execution_count": 3,
   "id": "00d7def4",
   "metadata": {},
   "outputs": [
    {
     "name": "stdout",
     "output_type": "stream",
     "text": [
      "Successfully copied 'test_file.txt' to 'destination.txt'\n",
      "Desination file contents :\n",
      "File contents:\n",
      "----------------------------------------\n",
      "This is a test file created by Python.\n",
      "It contains multiple lines of text.\n",
      "You can use this file for testing purposes.\n",
      "Line 3\n",
      "Line 4\n",
      "The quick brown fox jumps over the lazy dog.\n",
      "1234567890\n",
      "Special characters: !@#$%^&*()\n",
      "End of file.\n",
      "----------------------------------------\n"
     ]
    }
   ],
   "source": [
    "#Exercise 2: Copy contents from one file to another\n",
    "def copy_file(source, destination):\n",
    "    try:\n",
    "        with open(source, 'r') as src:\n",
    "            content = src.read()\n",
    "        \n",
    "        with open(destination, 'w') as dest:\n",
    "            dest.write(content)\n",
    "        \n",
    "        print(f\"Successfully copied '{source}' to '{destination}'\")\n",
    "    except FileNotFoundError:\n",
    "        print(f\"Error: Source file '{source}' not found.\")\n",
    "    except IOError as e:\n",
    "        print(f\"Error copying file: {e}\")\n",
    "\n",
    "# Example usage\n",
    "\n",
    "source_file = \"test_file.txt\" \n",
    "destination_file = \"destination.txt\"\n",
    "copy_file(source_file, destination_file)\n",
    "print(\"Desination file contents :\")\n",
    "display_file(destination_file)"
   ]
  },
  {
   "cell_type": "code",
   "execution_count": 4,
   "id": "a7bee6f2",
   "metadata": {},
   "outputs": [
    {
     "name": "stdout",
     "output_type": "stream",
     "text": [
      "Total words in 'test_file.txt': 42\n"
     ]
    }
   ],
   "source": [
    "#Exercise 3: Count total words in a file\n",
    "\n",
    "def count_words(filename):\n",
    "    try:\n",
    "        with open(filename, 'r') as file:\n",
    "            content = file.read()\n",
    "            words = content.split()\n",
    "            print(f\"Total words in '{filename}': {len(words)}\")\n",
    "    except FileNotFoundError:\n",
    "        print(f\"Error: File '{filename}' not found.\")\n",
    "    except IOError as e:\n",
    "        print(f\"Error reading file: {e}\")\n",
    "\n",
    "# Example usage\n",
    "count_words(\"test_file.txt\")"
   ]
  },
  {
   "cell_type": "code",
   "execution_count": 5,
   "id": "c0534dac",
   "metadata": {},
   "outputs": [
    {
     "name": "stdout",
     "output_type": "stream",
     "text": [
      "Enter a number: 15\n",
      "Converted to integer: 15\n"
     ]
    }
   ],
   "source": [
    "#Exercise 4: Convert string to integer\n",
    "\n",
    "def string_to_int():\n",
    "    try:\n",
    "        user_input = input(\"Enter a number: \")\n",
    "        num = int(user_input)\n",
    "        print(f\"Converted to integer: {num}\")\n",
    "    except ValueError:\n",
    "        print(\"Error: Invalid input (not an integer)\")\n",
    "\n",
    "# Example usage\n",
    "string_to_int()"
   ]
  },
  {
   "cell_type": "code",
   "execution_count": 6,
   "id": "25c51cb0",
   "metadata": {},
   "outputs": [
    {
     "name": "stdout",
     "output_type": "stream",
     "text": [
      "Enter a list of integers (comma-separated): 1,2,3,4,-1\n",
      "Error: Negative numbers are not allowed!\n"
     ]
    }
   ],
   "source": [
    "# Exercise 5: Check for negative numbers in a list\n",
    "\n",
    "def check_negative_numbers():\n",
    "    try:\n",
    "        input_str = input(\"Enter a list of integers (comma-separated): \")\n",
    "        numbers = [int(x) for x in input_str.split(',')]\n",
    "        \n",
    "        for num in numbers:\n",
    "            if num < 0:\n",
    "                raise ValueError(\"Negative numbers are not allowed!\")\n",
    "        \n",
    "        print(\"All numbers are non-negative.\")\n",
    "    \n",
    "    except ValueError as e:\n",
    "        print(f\"Error: {e}\")\n",
    "\n",
    "# Example usage\n",
    "check_negative_numbers()"
   ]
  },
  {
   "cell_type": "code",
   "execution_count": 7,
   "id": "0164f89f",
   "metadata": {},
   "outputs": [
    {
     "name": "stdout",
     "output_type": "stream",
     "text": [
      "Enter a list of integers (comma-separated): 5,4,3,2,1\n",
      "Average: 3.00\n",
      "Program execution finished.\n"
     ]
    }
   ],
   "source": [
    "# Exercise 6: Compute average of integers (with finally)\n",
    "\n",
    "def compute_average():\n",
    "    try:\n",
    "        input_str = input(\"Enter a list of integers (comma-separated): \")\n",
    "        numbers = [int(x) for x in input_str.split(',')]\n",
    "        average = sum(numbers) / len(numbers)\n",
    "        print(f\"Average: {average:.2f}\")\n",
    "    \n",
    "    except ValueError:\n",
    "        print(\"Error: Invalid input (non-integer detected)\")\n",
    "    except ZeroDivisionError:\n",
    "        print(\"Error: Cannot compute average of an empty list\")\n",
    "    finally:\n",
    "        print(\"Program execution finished.\")\n",
    "\n",
    "# Example usage\n",
    "compute_average()"
   ]
  },
  {
   "cell_type": "code",
   "execution_count": 11,
   "id": "76761a96",
   "metadata": {},
   "outputs": [
    {
     "name": "stdout",
     "output_type": "stream",
     "text": [
      "Enter filename: test_file.txt\n",
      "Enter content to write: happy evening\n",
      "File written successfully!\n"
     ]
    }
   ],
   "source": [
    "def write_to_file():\n",
    "    try:\n",
    "        filename = input(\"Enter filename: \")\n",
    "        content = input(\"Enter content to write: \")\n",
    "        \n",
    "        with open(filename, 'w') as file:\n",
    "            file.write(content)\n",
    "        \n",
    "        print(\"File written successfully!\")\n",
    "    \n",
    "    except IOError as e:\n",
    "        print(f\"Error writing to file: {e}\")\n",
    "\n",
    "# Example usage\n",
    "write_to_file()\n"
   ]
  },
  {
   "cell_type": "code",
   "execution_count": null,
   "id": "fc4bec17",
   "metadata": {},
   "outputs": [],
   "source": []
  }
 ],
 "metadata": {
  "kernelspec": {
   "display_name": "Python 3 (ipykernel)",
   "language": "python",
   "name": "python3"
  },
  "language_info": {
   "codemirror_mode": {
    "name": "ipython",
    "version": 3
   },
   "file_extension": ".py",
   "mimetype": "text/x-python",
   "name": "python",
   "nbconvert_exporter": "python",
   "pygments_lexer": "ipython3",
   "version": "3.9.13"
  }
 },
 "nbformat": 4,
 "nbformat_minor": 5
}
