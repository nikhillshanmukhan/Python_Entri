{
 "cells": [
  {
   "cell_type": "code",
   "execution_count": 1,
   "id": "dea8806f",
   "metadata": {},
   "outputs": [
    {
     "name": "stdout",
     "output_type": "stream",
     "text": [
      "[[ 1  2  3  4  5]\n",
      " [ 6  7  8  9 10]]\n"
     ]
    }
   ],
   "source": [
    "# Exercise 1: Create and reshape numpy array\n",
    "import numpy as np\n",
    "\n",
    "arr = np.arange(1, 11)  # Creates array [1, 2, ..., 10]\n",
    "reshaped_arr = arr.reshape(2, 5)  # Reshapes to 2x5 matrix\n",
    "print(reshaped_arr)"
   ]
  },
  {
   "cell_type": "code",
   "execution_count": 2,
   "id": "7caa1ce0",
   "metadata": {},
   "outputs": [
    {
     "name": "stdout",
     "output_type": "stream",
     "text": [
      "[ 6  7  8  9 10 11 12 13 14 15]\n"
     ]
    }
   ],
   "source": [
    "# Exercise 2: Extract elements from numpy array\n",
    "import numpy as np\n",
    "\n",
    "arr = np.arange(1, 21)  # Creates array [1, 2, ..., 20]\n",
    "extracted_elements = arr[5:15]  # Extracts elements from index 5 to 14\n",
    "print(extracted_elements)"
   ]
  },
  {
   "cell_type": "code",
   "execution_count": 5,
   "id": "0a9d7338",
   "metadata": {},
   "outputs": [
    {
     "name": "stdout",
     "output_type": "stream",
     "text": [
      "apples     3\n",
      "bananas    2\n",
      "oranges    1\n",
      "pears      4\n",
      "dtype: int64\n"
     ]
    }
   ],
   "source": [
    "# Exercise 3: Create and modify Pandas Series\n",
    "import pandas as pd\n",
    "\n",
    "fruit_series = pd.Series({'apples': 3, 'bananas': 2, 'oranges': 1})\n",
    "fruit_series['pears'] = 4  # Adds new item\n",
    "print(fruit_series)"
   ]
  },
  {
   "cell_type": "code",
   "execution_count": 6,
   "id": "1ee17fe9",
   "metadata": {},
   "outputs": [
    {
     "name": "stdout",
     "output_type": "stream",
     "text": [
      "      name  age  gender\n",
      "0    Alice   44  Female\n",
      "1      Bob   21  Female\n",
      "2  Charlie   47    Male\n",
      "3    David   39    Male\n",
      "4      Eve   38    Male\n",
      "5    Frank   20    Male\n",
      "6    Grace   35  Female\n",
      "7    Henry   26  Female\n",
      "8      Ivy   20  Female\n",
      "9     Jack   49  Female\n"
     ]
    }
   ],
   "source": [
    "# Exercise 4: Create DataFrame with sample data\n",
    "import pandas as pd\n",
    "import numpy as np\n",
    "\n",
    "data = {\n",
    "    'name': ['Alice', 'Bob', 'Charlie', 'David', 'Eve', 'Frank', 'Grace', 'Henry', 'Ivy', 'Jack'],\n",
    "    'age': np.random.randint(20, 50, size=10),\n",
    "    'gender': np.random.choice(['Male', 'Female'], size=10)\n",
    "}\n",
    "\n",
    "df = pd.DataFrame(data)\n",
    "print(df)"
   ]
  },
  {
   "cell_type": "code",
   "execution_count": 7,
   "id": "d1bbf851",
   "metadata": {},
   "outputs": [
    {
     "name": "stdout",
     "output_type": "stream",
     "text": [
      "      name  age  gender  occupation\n",
      "0    Alice   44  Female  Programmer\n",
      "1      Bob   21  Female     Manager\n",
      "2  Charlie   47    Male     Analyst\n",
      "3    David   39    Male  Programmer\n",
      "4      Eve   38    Male     Manager\n",
      "5    Frank   20    Male     Analyst\n",
      "6    Grace   35  Female  Programmer\n",
      "7    Henry   26  Female     Manager\n",
      "8      Ivy   20  Female     Analyst\n",
      "9     Jack   49  Female  Programmer\n"
     ]
    }
   ],
   "source": [
    "# Exercise 5: Add occupation column\n",
    "\n",
    "# Continuing from Exercise 4\n",
    "occupations = ['Programmer', 'Manager', 'Analyst'] * 3 + ['Programmer']\n",
    "df['occupation'] = occupations[:10] \n",
    "print(df)"
   ]
  },
  {
   "cell_type": "code",
   "execution_count": 8,
   "id": "8f025a97",
   "metadata": {},
   "outputs": [
    {
     "name": "stdout",
     "output_type": "stream",
     "text": [
      "      name  age  gender  occupation\n",
      "0    Alice   44  Female  Programmer\n",
      "2  Charlie   47    Male     Analyst\n",
      "3    David   39    Male  Programmer\n",
      "4      Eve   38    Male     Manager\n",
      "6    Grace   35  Female  Programmer\n",
      "9     Jack   49  Female  Programmer\n"
     ]
    }
   ],
   "source": [
    "# Exercise 6: Filter rows by age\n",
    "# Continuing from previous exercises\n",
    "filtered_df = df[df['age'] >= 30]\n",
    "print(filtered_df)"
   ]
  },
  {
   "cell_type": "code",
   "execution_count": null,
   "id": "62f3272f",
   "metadata": {},
   "outputs": [],
   "source": [
    "# Exercise 7: Convert to CSV and read back"
   ]
  }
 ],
 "metadata": {
  "kernelspec": {
   "display_name": "Python 3 (ipykernel)",
   "language": "python",
   "name": "python3"
  },
  "language_info": {
   "codemirror_mode": {
    "name": "ipython",
    "version": 3
   },
   "file_extension": ".py",
   "mimetype": "text/x-python",
   "name": "python",
   "nbconvert_exporter": "python",
   "pygments_lexer": "ipython3",
   "version": "3.9.13"
  }
 },
 "nbformat": 4,
 "nbformat_minor": 5
}
