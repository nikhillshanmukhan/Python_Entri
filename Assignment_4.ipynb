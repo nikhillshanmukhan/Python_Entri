{
 "cells": [
  {
   "cell_type": "code",
   "execution_count": null,
   "id": "fca5cc55",
   "metadata": {},
   "outputs": [],
   "source": [
    "#Exercise 1:Create a function that takes in three arguments, two of which are optional.\n",
    "#The first argument should be a required positional argument, \n",
    "#the second argument should be a keyword argument with a default value of 10,\n",
    "#and the third argument should be a keyword argument with a default value of None.\n",
    "#The function should print the sum of the first two arguments if the third argument is None,\n",
    "#and print the product of all three arguments if the third argument is not None."
   ]
  },
  {
   "cell_type": "code",
   "execution_count": 1,
   "id": "2a84e18c",
   "metadata": {},
   "outputs": [
    {
     "name": "stdout",
     "output_type": "stream",
     "text": [
      "Sum of 5 and 10: 15\n",
      "Sum of 5 and 20: 25\n",
      "Product of 5, 20, and 3: 300\n"
     ]
    }
   ],
   "source": [
    "def calculate(a, b=10, c=None):\n",
    "    if c is None:\n",
    "        print(f\"Sum of {a} and {b}: {a + b}\")\n",
    "    else:\n",
    "        print(f\"Product of {a}, {b}, and {c}: {a * b * c}\")\n",
    "\n",
    "# Example usage\n",
    "calculate(5)               \n",
    "calculate(5, 20)            \n",
    "calculate(5, 20, 3)         "
   ]
  },
  {
   "cell_type": "code",
   "execution_count": 2,
   "id": "84cc5514",
   "metadata": {},
   "outputs": [
    {
     "name": "stdout",
     "output_type": "stream",
     "text": [
      "Filtered strings: ['apple', 'carrot', 'elephant']\n"
     ]
    }
   ],
   "source": [
    "#Exercise 2:Write a function that takes in a list of strings and\n",
    "#returns a new list with only the strings that have a length greater than or equal to 5.\n",
    "\n",
    "def long_strings(strings):\n",
    "    return [s for s in strings if len(s) >= 5]\n",
    "\n",
    "# Example usage\n",
    "strings = [\"apple\", \"bat\", \"carrot\", \"dog\", \"elephant\"]\n",
    "filtered_strings = long_strings(strings)\n",
    "print(\"Filtered strings:\", filtered_strings)\n"
   ]
  },
  {
   "cell_type": "code",
   "execution_count": 3,
   "id": "f9eeb395",
   "metadata": {},
   "outputs": [
    {
     "name": "stdout",
     "output_type": "stream",
     "text": [
      "Result of '3 * 5 + 2': 17\n"
     ]
    }
   ],
   "source": [
    "#Exercise 3:Write a Python program to evaluate a given mathematical expression using the eval() function.\n",
    "#expression = \"3 * 5 + 2\"\n",
    "\n",
    "def evaluate(expression):\n",
    "    result = eval(expression)\n",
    "    print(f\"Result of '{expression}': {result}\")\n",
    "\n",
    "# Example usage\n",
    "expression = \"3 * 5 + 2\"\n",
    "evaluate(expression)"
   ]
  },
  {
   "cell_type": "code",
   "execution_count": 4,
   "id": "54efd4a7",
   "metadata": {},
   "outputs": [
    {
     "name": "stdout",
     "output_type": "stream",
     "text": [
      "Prime numbers: [2, 3, 5, 7, 11]\n"
     ]
    }
   ],
   "source": [
    "#Exercise 4: Write a Python program to filter out the prime numbers from a given list of integers using the filter() function.\n",
    "def is_prime(n):\n",
    "    if n <= 1:\n",
    "        return False\n",
    "    for i in range(2, int(n**0.5) + 1):\n",
    "        if n % i == 0:\n",
    "            return False\n",
    "    return True\n",
    "\n",
    "def filter_primes(numbers):\n",
    "    return list(filter(is_prime, numbers))\n",
    "\n",
    "# Example usage\n",
    "numbers = [2, 3, 4, 5, 6, 7, 8, 9, 10, 11]\n",
    "prime_numbers = filter_primes(numbers)\n",
    "print(\"Prime numbers:\", prime_numbers)"
   ]
  },
  {
   "cell_type": "code",
   "execution_count": 5,
   "id": "0887cb2b",
   "metadata": {},
   "outputs": [
    {
     "name": "stdout",
     "output_type": "stream",
     "text": [
      "Uppercase strings: ['APPLE', 'BANANA', 'CHERRY']\n"
     ]
    }
   ],
   "source": [
    "#Exercise 5:Write a Python program to convert a list of strings to uppercase using the map() function.\n",
    "\n",
    "def to_uppercase(strings):\n",
    "    return list(map(str.upper, strings))\n",
    "\n",
    "# Example usage\n",
    "strings = [\"apple\", \"banana\", \"cherry\"]\n",
    "uppercase_strings = to_uppercase(strings)\n",
    "print(\"Uppercase strings:\", uppercase_strings)"
   ]
  },
  {
   "cell_type": "code",
   "execution_count": null,
   "id": "d3ceb5fe",
   "metadata": {},
   "outputs": [],
   "source": []
  }
 ],
 "metadata": {
  "kernelspec": {
   "display_name": "Python 3 (ipykernel)",
   "language": "python",
   "name": "python3"
  },
  "language_info": {
   "codemirror_mode": {
    "name": "ipython",
    "version": 3
   },
   "file_extension": ".py",
   "mimetype": "text/x-python",
   "name": "python",
   "nbconvert_exporter": "python",
   "pygments_lexer": "ipython3",
   "version": "3.9.13"
  }
 },
 "nbformat": 4,
 "nbformat_minor": 5
}
