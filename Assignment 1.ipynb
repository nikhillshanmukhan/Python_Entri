{
 "cells": [
  {
   "cell_type": "code",
   "execution_count": 1,
   "id": "88d7b273",
   "metadata": {},
   "outputs": [
    {
     "name": "stdout",
     "output_type": "stream",
     "text": [
      "Bob\n",
      "ST1001\n",
      "bob@gmail.com\n"
     ]
    }
   ],
   "source": [
    "# Print name, student number, and email address\n",
    "print(\"Bob\")\n",
    "print(\"ST1001\")\n",
    "print(\"bob@gmail.com\")"
   ]
  },
  {
   "cell_type": "code",
   "execution_count": 2,
   "id": "ae5b9f4a",
   "metadata": {},
   "outputs": [
    {
     "name": "stdout",
     "output_type": "stream",
     "text": [
      "Bob\n",
      "ST1001\n",
      "bob@gmail.com\n"
     ]
    }
   ],
   "source": [
    "# Print name, student number, and email address using escape sequences\n",
    "print(\"Bob\\nST1001\\nbob@gmail.com\")"
   ]
  },
  {
   "cell_type": "code",
   "execution_count": 3,
   "id": "69fcd176",
   "metadata": {},
   "outputs": [
    {
     "name": "stdout",
     "output_type": "stream",
     "text": [
      "14 + 7 = 21\n",
      "14 * 7 = 98\n",
      "14 - 7 = 7\n",
      "14 / 7 = 2.0\n"
     ]
    }
   ],
   "source": [
    "# Perform arithmetic operations on two numbers\n",
    "a = 14\n",
    "b = 7\n",
    "\n",
    "print(f\"{a} + {b} = {a + b}\")\n",
    "print(f\"{a} * {b} = {a * b}\")\n",
    "print(f\"{a} - {b} = {a - b}\")\n",
    "print(f\"{a} / {b} = {a / b}\")"
   ]
  },
  {
   "cell_type": "code",
   "execution_count": 4,
   "id": "78425896",
   "metadata": {},
   "outputs": [
    {
     "name": "stdout",
     "output_type": "stream",
     "text": [
      "1\n",
      "2\n",
      "3\n",
      "4\n",
      "5\n"
     ]
    }
   ],
   "source": [
    "# Display numbers from 1 to 5 as steps\n",
    "for i in range(1, 6):\n",
    "    print(i)"
   ]
  },
  {
   "cell_type": "code",
   "execution_count": 13,
   "id": "ff6e47d6",
   "metadata": {},
   "outputs": [
    {
     "name": "stdout",
     "output_type": "stream",
     "text": [
      "\"SDK\" stands for \"Software Development Kit\",\n",
      " whereas \"IDE\" stands for \"Integrated Development Environment\".\n"
     ]
    }
   ],
   "source": [
    "# Output a sentence with quotation marks and a line break\n",
    "print('\"SDK\" stands for \"Software Development Kit\",\\n whereas \"IDE\" stands for \"Integrated Development Environment\".')"
   ]
  },
  {
   "cell_type": "code",
   "execution_count": 6,
   "id": "4c62d1c0",
   "metadata": {},
   "outputs": [
    {
     "name": "stdout",
     "output_type": "stream",
     "text": [
      "python is an \"awesome\" language.\n",
      "python\n",
      "\t2023\n",
      "I'm from Entri.\b\n",
      "5\n",
      "e\n",
      "Entri\n",
      "2023\n",
      "Entri\b2023\n",
      "Entri*2023\b\b\b\b"
     ]
    }
   ],
   "source": [
    "# Practice escape sequences and formatting\n",
    "print(\"python is an \\\"awesome\\\" language.\")\n",
    "print(\"python\\n\\t2023\")\n",
    "print('I\\'m from Entri.\\b')\n",
    "print(\"\\65\")\n",
    "print(\"\\x65\")\n",
    "print(\"Entri\", \"2023\", sep=\"\\n\")\n",
    "print(\"Entri\", \"2023\", sep=\"\\b\")\n",
    "print(\"Entri\", \"2023\", sep=\"*\", end=\"\\b\\b\\b\\b\")"
   ]
  },
  {
   "cell_type": "code",
   "execution_count": 7,
   "id": "a5995181",
   "metadata": {},
   "outputs": [
    {
     "name": "stdout",
     "output_type": "stream",
     "text": [
      "<class 'int'>\n",
      "<class 'str'>\n",
      "<class 'float'>\n",
      "Sum: 178.3\n",
      "Datatype of sum: <class 'float'>\n"
     ]
    }
   ],
   "source": [
    "# Define variables and print their types\n",
    "num = 23\n",
    "textnum = \"57\"\n",
    "decimal = 98.3\n",
    "\n",
    "print(type(num))       # <class 'int'>\n",
    "print(type(textnum))   # <class 'str'>\n",
    "print(type(decimal))   # <class 'float'>\n",
    "\n",
    "# Convert and calculate the sum\n",
    "sum_values = num + int(textnum) + decimal\n",
    "print(\"Sum:\", sum_values)  # Sum: 178.3\n",
    "print(\"Datatype of sum:\", type(sum_values))  # <class 'float'>"
   ]
  },
  {
   "cell_type": "code",
   "execution_count": 8,
   "id": "c9be9eea",
   "metadata": {},
   "outputs": [
    {
     "name": "stdout",
     "output_type": "stream",
     "text": [
      "There are 525600 minutes in a year.\n"
     ]
    }
   ],
   "source": [
    "# Calculate the number of minutes in a year\n",
    "days_in_year = 365\n",
    "hours_in_day = 24\n",
    "minutes_in_hour = 60\n",
    "\n",
    "total_minutes = days_in_year * hours_in_day * minutes_in_hour\n",
    "print(f\"There are {total_minutes} minutes in a year.\")"
   ]
  },
  {
   "cell_type": "code",
   "execution_count": 9,
   "id": "6b6a56f1",
   "metadata": {},
   "outputs": [
    {
     "name": "stdout",
     "output_type": "stream",
     "text": [
      "Please enter your name: bob\n",
      "Hi bob, welcome to Python programming :)\n"
     ]
    }
   ],
   "source": [
    "# Ask for user's name and greet them\n",
    "name = input(\"Please enter your name: \")\n",
    "print(f\"Hi {name}, welcome to Python programming :)\")"
   ]
  },
  {
   "cell_type": "code",
   "execution_count": 10,
   "id": "2cfc7ec1",
   "metadata": {},
   "outputs": [
    {
     "name": "stdout",
     "output_type": "stream",
     "text": [
      "Please enter amount in pounds: 25\n",
      "£25.00 are $31.50\n"
     ]
    }
   ],
   "source": [
    "# Convert pounds to dollars\n",
    "pounds = float(input(\"Please enter amount in pounds: \"))\n",
    "exchange_rate = 1.26  # Example exchange rate (1 GBP = 1.26 USD)\n",
    "dollars = pounds * exchange_rate\n",
    "\n",
    "print(f\"£{pounds:.2f} are ${dollars:.2f}\")"
   ]
  },
  {
   "cell_type": "code",
   "execution_count": null,
   "id": "a6f74dbf",
   "metadata": {},
   "outputs": [],
   "source": []
  }
 ],
 "metadata": {
  "kernelspec": {
   "display_name": "Python 3 (ipykernel)",
   "language": "python",
   "name": "python3"
  },
  "language_info": {
   "codemirror_mode": {
    "name": "ipython",
    "version": 3
   },
   "file_extension": ".py",
   "mimetype": "text/x-python",
   "name": "python",
   "nbconvert_exporter": "python",
   "pygments_lexer": "ipython3",
   "version": "3.9.13"
  }
 },
 "nbformat": 4,
 "nbformat_minor": 5
}
