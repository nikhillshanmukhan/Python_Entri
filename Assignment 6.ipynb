{
 "cells": [
  {
   "cell_type": "code",
   "execution_count": 1,
   "id": "ab3cb350",
   "metadata": {},
   "outputs": [
    {
     "name": "stdout",
     "output_type": "stream",
     "text": [
      "CS101: Introduction to Computer Science (3 credits) [Core - Required: True]\n",
      "ART120: Modern Art History (2 credits) [Elective - Type: liberal arts]\n"
     ]
    }
   ],
   "source": [
    "# Question 1: University Course Catalog Management\n",
    "class Course:\n",
    "    def __init__(self, course_code, course_name, credit_hours):\n",
    "        self.course_code = course_code\n",
    "        self.course_name = course_name\n",
    "        self.credit_hours = credit_hours\n",
    "    \n",
    "    def __str__(self):\n",
    "        return f\"{self.course_code}: {self.course_name} ({self.credit_hours} credits)\"\n",
    "\n",
    "class CoreCourse(Course):\n",
    "    def __init__(self, course_code, course_name, credit_hours, required_for_major):\n",
    "        super().__init__(course_code, course_name, credit_hours)\n",
    "        self.required_for_major = required_for_major\n",
    "    \n",
    "    def __str__(self):\n",
    "        return super().__str__() + f\" [Core - Required: {self.required_for_major}]\"\n",
    "\n",
    "class ElectiveCourse(Course):\n",
    "    def __init__(self, course_code, course_name, credit_hours, elective_type):\n",
    "        super().__init__(course_code, course_name, credit_hours)\n",
    "        self.elective_type = elective_type\n",
    "    \n",
    "    def __str__(self):\n",
    "        return super().__str__() + f\" [Elective - Type: {self.elective_type}]\"\n",
    "\n",
    "# Example usage:\n",
    "cs101 = CoreCourse(\"CS101\", \"Introduction to Computer Science\", 3, True)\n",
    "art120 = ElectiveCourse(\"ART120\", \"Modern Art History\", 2, \"liberal arts\")\n",
    "\n",
    "print(cs101)\n",
    "print(art120)"
   ]
  },
  {
   "cell_type": "code",
   "execution_count": null,
   "id": "31e21986",
   "metadata": {},
   "outputs": [],
   "source": [
    "# Question 2: Employee Module\n",
    "\n",
    "# employee.py\n",
    "#--------------------\n",
    "# class Employee:\n",
    "#  def __init__(self, name, salary):\n",
    "#     self.name = name\n",
    "#    self.salary = salary\n",
    "    \n",
    "#  def get_name(self):\n",
    "#   return self.name\n",
    "    \n",
    "#  def get_salary(self):\n",
    "#   return self.salary\n",
    "    \n",
    "    \n"
   ]
  },
  {
   "cell_type": "code",
   "execution_count": 1,
   "id": "96c30d8b",
   "metadata": {},
   "outputs": [
    {
     "name": "stdout",
     "output_type": "stream",
     "text": [
      "Name: Alice Smith\n",
      "Salary: $85,000\n"
     ]
    }
   ],
   "source": [
    "#Use the module\n",
    "from employee import Employee\n",
    "\n",
    "# Create an employee\n",
    "emp = Employee(\"Alice Smith\", 85000)\n",
    "\n",
    "# Display information\n",
    "print(f\"Name: {emp.get_name()}\")\n",
    "print(f\"Salary: ${emp.get_salary():,}\")"
   ]
  },
  {
   "cell_type": "code",
   "execution_count": null,
   "id": "0aa1eaa8",
   "metadata": {},
   "outputs": [],
   "source": []
  }
 ],
 "metadata": {
  "kernelspec": {
   "display_name": "Python 3 (ipykernel)",
   "language": "python",
   "name": "python3"
  },
  "language_info": {
   "codemirror_mode": {
    "name": "ipython",
    "version": 3
   },
   "file_extension": ".py",
   "mimetype": "text/x-python",
   "name": "python",
   "nbconvert_exporter": "python",
   "pygments_lexer": "ipython3",
   "version": "3.9.13"
  }
 },
 "nbformat": 4,
 "nbformat_minor": 5
}
